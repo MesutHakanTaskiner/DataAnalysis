{
 "cells": [
  {
   "cell_type": "code",
   "execution_count": 1,
   "id": "62df411d-263f-4d15-b85e-0ac8284c9089",
   "metadata": {},
   "outputs": [],
   "source": [
    "import pandas as pd\n",
    "import numpy as np\n",
    "import xlsxwriter"
   ]
  },
  {
   "cell_type": "code",
   "execution_count": 2,
   "id": "eb4cf022-f69d-4f92-bfa3-02f22e8ba82f",
   "metadata": {},
   "outputs": [],
   "source": [
    "order_product = pd.read_excel(\"Case.xlsx\", sheet_name=\"Order Product\")"
   ]
  },
  {
   "cell_type": "code",
   "execution_count": 3,
   "id": "5f174409-d7d6-4bf5-81b7-465a854cbd2e",
   "metadata": {},
   "outputs": [
    {
     "data": {
      "text/html": [
       "<div>\n",
       "<style scoped>\n",
       "    .dataframe tbody tr th:only-of-type {\n",
       "        vertical-align: middle;\n",
       "    }\n",
       "\n",
       "    .dataframe tbody tr th {\n",
       "        vertical-align: top;\n",
       "    }\n",
       "\n",
       "    .dataframe thead th {\n",
       "        text-align: right;\n",
       "    }\n",
       "</style>\n",
       "<table border=\"1\" class=\"dataframe\">\n",
       "  <thead>\n",
       "    <tr style=\"text-align: right;\">\n",
       "      <th></th>\n",
       "      <th>Order ID</th>\n",
       "      <th>ProductID</th>\n",
       "      <th>Unit List Price</th>\n",
       "      <th>Quantity</th>\n",
       "      <th>Category</th>\n",
       "      <th>SubCategory</th>\n",
       "    </tr>\n",
       "  </thead>\n",
       "  <tbody>\n",
       "    <tr>\n",
       "      <th>0</th>\n",
       "      <td>1001</td>\n",
       "      <td>Product5001</td>\n",
       "      <td>12.42</td>\n",
       "      <td>1</td>\n",
       "      <td>Category1001</td>\n",
       "      <td>SubCategory1001</td>\n",
       "    </tr>\n",
       "    <tr>\n",
       "      <th>1</th>\n",
       "      <td>1002</td>\n",
       "      <td>Product5001</td>\n",
       "      <td>24.84</td>\n",
       "      <td>2</td>\n",
       "      <td>Category1001</td>\n",
       "      <td>SubCategory1001</td>\n",
       "    </tr>\n",
       "    <tr>\n",
       "      <th>2</th>\n",
       "      <td>1003</td>\n",
       "      <td>Product5001</td>\n",
       "      <td>12.42</td>\n",
       "      <td>1</td>\n",
       "      <td>Category1001</td>\n",
       "      <td>SubCategory1001</td>\n",
       "    </tr>\n",
       "  </tbody>\n",
       "</table>\n",
       "</div>"
      ],
      "text/plain": [
       "   Order ID    ProductID  Unit List Price  Quantity      Category  \\\n",
       "0      1001  Product5001            12.42         1  Category1001   \n",
       "1      1002  Product5001            24.84         2  Category1001   \n",
       "2      1003  Product5001            12.42         1  Category1001   \n",
       "\n",
       "       SubCategory  \n",
       "0  SubCategory1001  \n",
       "1  SubCategory1001  \n",
       "2  SubCategory1001  "
      ]
     },
     "execution_count": 3,
     "metadata": {},
     "output_type": "execute_result"
    }
   ],
   "source": [
    "order_product.head(3)"
   ]
  },
  {
   "cell_type": "code",
   "execution_count": 4,
   "id": "0fc538ff-bb84-4764-acef-8c5fdcb76241",
   "metadata": {},
   "outputs": [],
   "source": [
    "order_transaction = pd.read_excel(\"Case.xlsx\", sheet_name=\"Order(Transaction)\")\n"
   ]
  },
  {
   "cell_type": "code",
   "execution_count": 5,
   "id": "cd529f1e-1b79-4233-90d0-be1dc491a433",
   "metadata": {},
   "outputs": [
    {
     "data": {
      "text/html": [
       "<div>\n",
       "<style scoped>\n",
       "    .dataframe tbody tr th:only-of-type {\n",
       "        vertical-align: middle;\n",
       "    }\n",
       "\n",
       "    .dataframe tbody tr th {\n",
       "        vertical-align: top;\n",
       "    }\n",
       "\n",
       "    .dataframe thead th {\n",
       "        text-align: right;\n",
       "    }\n",
       "</style>\n",
       "<table border=\"1\" class=\"dataframe\">\n",
       "  <thead>\n",
       "    <tr style=\"text-align: right;\">\n",
       "      <th></th>\n",
       "      <th>Order ID</th>\n",
       "      <th>MemberID</th>\n",
       "      <th>Avg Basket Size</th>\n",
       "      <th>Created Date</th>\n",
       "      <th>StoreID</th>\n",
       "      <th>Order Status</th>\n",
       "    </tr>\n",
       "  </thead>\n",
       "  <tbody>\n",
       "    <tr>\n",
       "      <th>0</th>\n",
       "      <td>1001</td>\n",
       "      <td>5124</td>\n",
       "      <td>NaN</td>\n",
       "      <td>2020-12-06</td>\n",
       "      <td>Store5032</td>\n",
       "      <td>Completed</td>\n",
       "    </tr>\n",
       "    <tr>\n",
       "      <th>1</th>\n",
       "      <td>1002</td>\n",
       "      <td>5219</td>\n",
       "      <td>NaN</td>\n",
       "      <td>2021-02-18</td>\n",
       "      <td>Store5032</td>\n",
       "      <td>Completed</td>\n",
       "    </tr>\n",
       "    <tr>\n",
       "      <th>2</th>\n",
       "      <td>1003</td>\n",
       "      <td>5229</td>\n",
       "      <td>NaN</td>\n",
       "      <td>2021-01-04</td>\n",
       "      <td>Store5032</td>\n",
       "      <td>Completed</td>\n",
       "    </tr>\n",
       "  </tbody>\n",
       "</table>\n",
       "</div>"
      ],
      "text/plain": [
       "   Order ID  MemberID  Avg Basket Size Created Date    StoreID Order Status\n",
       "0      1001      5124              NaN   2020-12-06  Store5032    Completed\n",
       "1      1002      5219              NaN   2021-02-18  Store5032    Completed\n",
       "2      1003      5229              NaN   2021-01-04  Store5032    Completed"
      ]
     },
     "execution_count": 5,
     "metadata": {},
     "output_type": "execute_result"
    }
   ],
   "source": [
    "order_transaction.head(3)"
   ]
  },
  {
   "cell_type": "code",
   "execution_count": 6,
   "id": "3819cd37-1bc9-4d46-8710-8e29c01183aa",
   "metadata": {},
   "outputs": [],
   "source": [
    "order_product = order_product.sort_values(by=[\"Order ID\"])"
   ]
  },
  {
   "cell_type": "code",
   "execution_count": 7,
   "id": "a489c50b-7707-48a8-b639-ac330c26cbd4",
   "metadata": {},
   "outputs": [
    {
     "data": {
      "text/html": [
       "<div>\n",
       "<style scoped>\n",
       "    .dataframe tbody tr th:only-of-type {\n",
       "        vertical-align: middle;\n",
       "    }\n",
       "\n",
       "    .dataframe tbody tr th {\n",
       "        vertical-align: top;\n",
       "    }\n",
       "\n",
       "    .dataframe thead th {\n",
       "        text-align: right;\n",
       "    }\n",
       "</style>\n",
       "<table border=\"1\" class=\"dataframe\">\n",
       "  <thead>\n",
       "    <tr style=\"text-align: right;\">\n",
       "      <th></th>\n",
       "      <th>Order ID</th>\n",
       "      <th>ProductID</th>\n",
       "      <th>Unit List Price</th>\n",
       "      <th>Quantity</th>\n",
       "      <th>Category</th>\n",
       "      <th>SubCategory</th>\n",
       "    </tr>\n",
       "  </thead>\n",
       "  <tbody>\n",
       "    <tr>\n",
       "      <th>0</th>\n",
       "      <td>1001</td>\n",
       "      <td>Product5001</td>\n",
       "      <td>12.42</td>\n",
       "      <td>1</td>\n",
       "      <td>Category1001</td>\n",
       "      <td>SubCategory1001</td>\n",
       "    </tr>\n",
       "    <tr>\n",
       "      <th>3595</th>\n",
       "      <td>1001</td>\n",
       "      <td>Product5260</td>\n",
       "      <td>4.14</td>\n",
       "      <td>1</td>\n",
       "      <td>Category1002</td>\n",
       "      <td>SubCategory1018</td>\n",
       "    </tr>\n",
       "    <tr>\n",
       "      <th>6172</th>\n",
       "      <td>1001</td>\n",
       "      <td>Product5406</td>\n",
       "      <td>2.76</td>\n",
       "      <td>1</td>\n",
       "      <td>Category1002</td>\n",
       "      <td>SubCategory1019</td>\n",
       "    </tr>\n",
       "    <tr>\n",
       "      <th>8469</th>\n",
       "      <td>1001</td>\n",
       "      <td>Product5621</td>\n",
       "      <td>2.76</td>\n",
       "      <td>1</td>\n",
       "      <td>Category1002</td>\n",
       "      <td>SubCategory1006</td>\n",
       "    </tr>\n",
       "    <tr>\n",
       "      <th>9456</th>\n",
       "      <td>1001</td>\n",
       "      <td>Product5682</td>\n",
       "      <td>1.38</td>\n",
       "      <td>1</td>\n",
       "      <td>Category1002</td>\n",
       "      <td>SubCategory1006</td>\n",
       "    </tr>\n",
       "    <tr>\n",
       "      <th>10320</th>\n",
       "      <td>1001</td>\n",
       "      <td>Product5789</td>\n",
       "      <td>13.80</td>\n",
       "      <td>2</td>\n",
       "      <td>Category1004</td>\n",
       "      <td>SubCategory1024</td>\n",
       "    </tr>\n",
       "    <tr>\n",
       "      <th>1918</th>\n",
       "      <td>1001</td>\n",
       "      <td>Product5153</td>\n",
       "      <td>4.14</td>\n",
       "      <td>1</td>\n",
       "      <td>Category1002</td>\n",
       "      <td>SubCategory1019</td>\n",
       "    </tr>\n",
       "  </tbody>\n",
       "</table>\n",
       "</div>"
      ],
      "text/plain": [
       "       Order ID    ProductID  Unit List Price  Quantity      Category  \\\n",
       "0          1001  Product5001            12.42         1  Category1001   \n",
       "3595       1001  Product5260             4.14         1  Category1002   \n",
       "6172       1001  Product5406             2.76         1  Category1002   \n",
       "8469       1001  Product5621             2.76         1  Category1002   \n",
       "9456       1001  Product5682             1.38         1  Category1002   \n",
       "10320      1001  Product5789            13.80         2  Category1004   \n",
       "1918       1001  Product5153             4.14         1  Category1002   \n",
       "\n",
       "           SubCategory  \n",
       "0      SubCategory1001  \n",
       "3595   SubCategory1018  \n",
       "6172   SubCategory1019  \n",
       "8469   SubCategory1006  \n",
       "9456   SubCategory1006  \n",
       "10320  SubCategory1024  \n",
       "1918   SubCategory1019  "
      ]
     },
     "execution_count": 7,
     "metadata": {},
     "output_type": "execute_result"
    }
   ],
   "source": [
    "order_product.head(7)"
   ]
  },
  {
   "cell_type": "code",
   "execution_count": 8,
   "id": "a7d59e98-87cc-49ac-8b63-dcd7e06a6f10",
   "metadata": {},
   "outputs": [],
   "source": [
    "writer = pd.ExcelWriter('CaseAnswers.xlsx', engine='xlsxwriter')"
   ]
  },
  {
   "cell_type": "markdown",
   "id": "3d7ff09a-d47e-452f-8dc2-810f07445406",
   "metadata": {},
   "source": [
    "## 1 - Please calculate the Avg Basket Size for each order in the \"Order(Transaction)\" sheet. (Please refer to the \"Order Product\" sheet.)"
   ]
  },
  {
   "cell_type": "code",
   "execution_count": 19,
   "id": "d47f1a20-fec1-4fa4-88ca-d0ab047a10ae",
   "metadata": {},
   "outputs": [],
   "source": [
    "order_transaction_date = pd.read_excel(\"Case.xlsx\", sheet_name=\"Order(Transaction)\")"
   ]
  },
  {
   "cell_type": "code",
   "execution_count": 20,
   "id": "f33b94aa-111a-449c-a4d9-0df9d847d31a",
   "metadata": {},
   "outputs": [],
   "source": [
    "avg_basket_value = list()\n",
    "\n",
    "for i in order_transaction_date[\"Order ID\"]:\n",
    "    avg_basket_size = (sum(order_product[order_product[\"Order ID\"] == i][\"Unit List Price\"])/sum(order_product[order_product[\"Order ID\"] == i][\"Quantity\"]))\n",
    "    format_float_avg = \"{:.3f}\".format(avg_basket_size)\n",
    "    format_float_avg = float(format_float_avg)\n",
    "    avg_basket_value.append(float(format_float_avg))"
   ]
  },
  {
   "cell_type": "code",
   "execution_count": 21,
   "id": "372b84bf-ba41-4705-a875-05e26ffb8c86",
   "metadata": {},
   "outputs": [],
   "source": [
    "order_transaction_date[\"Avg Basket Size\"] = avg_basket_value"
   ]
  },
  {
   "cell_type": "code",
   "execution_count": 22,
   "id": "3d55dda9-16eb-4118-ab0e-e34c8dbdaba1",
   "metadata": {},
   "outputs": [
    {
     "data": {
      "text/plain": [
       "0       06.12.2020\n",
       "1       18.02.2021\n",
       "2       04.01.2021\n",
       "3       05.02.2021\n",
       "4       24.10.2020\n",
       "           ...    \n",
       "2495    25.01.2021\n",
       "2496    29.10.2020\n",
       "2497    23.01.2021\n",
       "2498    05.12.2020\n",
       "2499    17.11.2020\n",
       "Name: Created Date, Length: 2500, dtype: object"
      ]
     },
     "execution_count": 22,
     "metadata": {},
     "output_type": "execute_result"
    }
   ],
   "source": [
    "dates = pd.to_datetime(order_transaction_date[\"Created Date\"], format='%Y%m%d')\n",
    "a = dates.dt.strftime('%d.%m.%Y')\n",
    "a"
   ]
  },
  {
   "cell_type": "code",
   "execution_count": 23,
   "id": "1e9115f9-1c3e-4b9e-9653-b0e6e4887f01",
   "metadata": {},
   "outputs": [],
   "source": [
    "order_transaction_date[\"Created Date\"] = a"
   ]
  },
  {
   "cell_type": "code",
   "execution_count": 27,
   "id": "94a9cbb4-a7be-40bf-8c37-e5b1e1432a1a",
   "metadata": {},
   "outputs": [
    {
     "data": {
      "text/html": [
       "<div>\n",
       "<style scoped>\n",
       "    .dataframe tbody tr th:only-of-type {\n",
       "        vertical-align: middle;\n",
       "    }\n",
       "\n",
       "    .dataframe tbody tr th {\n",
       "        vertical-align: top;\n",
       "    }\n",
       "\n",
       "    .dataframe thead th {\n",
       "        text-align: right;\n",
       "    }\n",
       "</style>\n",
       "<table border=\"1\" class=\"dataframe\">\n",
       "  <thead>\n",
       "    <tr style=\"text-align: right;\">\n",
       "      <th></th>\n",
       "      <th>Order ID</th>\n",
       "      <th>MemberID</th>\n",
       "      <th>Avg Basket Size</th>\n",
       "      <th>Created Date</th>\n",
       "      <th>StoreID</th>\n",
       "      <th>Order Status</th>\n",
       "    </tr>\n",
       "  </thead>\n",
       "  <tbody>\n",
       "    <tr>\n",
       "      <th>0</th>\n",
       "      <td>1001</td>\n",
       "      <td>5124</td>\n",
       "      <td>5.175</td>\n",
       "      <td>06.12.2020</td>\n",
       "      <td>Store5032</td>\n",
       "      <td>Completed</td>\n",
       "    </tr>\n",
       "    <tr>\n",
       "      <th>1</th>\n",
       "      <td>1002</td>\n",
       "      <td>5219</td>\n",
       "      <td>4.893</td>\n",
       "      <td>18.02.2021</td>\n",
       "      <td>Store5032</td>\n",
       "      <td>Completed</td>\n",
       "    </tr>\n",
       "    <tr>\n",
       "      <th>2</th>\n",
       "      <td>1003</td>\n",
       "      <td>5229</td>\n",
       "      <td>5.692</td>\n",
       "      <td>04.01.2021</td>\n",
       "      <td>Store5032</td>\n",
       "      <td>Completed</td>\n",
       "    </tr>\n",
       "    <tr>\n",
       "      <th>3</th>\n",
       "      <td>1004</td>\n",
       "      <td>5239</td>\n",
       "      <td>6.900</td>\n",
       "      <td>05.02.2021</td>\n",
       "      <td>Store5032</td>\n",
       "      <td>Completed</td>\n",
       "    </tr>\n",
       "    <tr>\n",
       "      <th>4</th>\n",
       "      <td>1005</td>\n",
       "      <td>5250</td>\n",
       "      <td>5.692</td>\n",
       "      <td>24.10.2020</td>\n",
       "      <td>Store5032</td>\n",
       "      <td>Completed</td>\n",
       "    </tr>\n",
       "  </tbody>\n",
       "</table>\n",
       "</div>"
      ],
      "text/plain": [
       "   Order ID  MemberID  Avg Basket Size Created Date    StoreID Order Status\n",
       "0      1001      5124            5.175   06.12.2020  Store5032    Completed\n",
       "1      1002      5219            4.893   18.02.2021  Store5032    Completed\n",
       "2      1003      5229            5.692   04.01.2021  Store5032    Completed\n",
       "3      1004      5239            6.900   05.02.2021  Store5032    Completed\n",
       "4      1005      5250            5.692   24.10.2020  Store5032    Completed"
      ]
     },
     "execution_count": 27,
     "metadata": {},
     "output_type": "execute_result"
    }
   ],
   "source": [
    "order_transaction_date.head(5)"
   ]
  },
  {
   "cell_type": "markdown",
   "id": "f05eac0d-1762-4f94-80b4-caab5bf4fceb",
   "metadata": {},
   "source": [
    "## 2 - What is the Avg Basket Size for between 7 Feb 2021 and 13 Feb 2021?"
   ]
  },
  {
   "cell_type": "code",
   "execution_count": 28,
   "id": "80b5a78b-25fa-4df6-beba-c8a4cf110bac",
   "metadata": {},
   "outputs": [],
   "source": [
    "order_transaction = pd.read_excel(\"Case.xlsx\", sheet_name=\"Order(Transaction)\")"
   ]
  },
  {
   "cell_type": "code",
   "execution_count": 29,
   "id": "76b034aa-c4cd-4842-b5ea-dda781d5c153",
   "metadata": {},
   "outputs": [],
   "source": [
    "order_transaction[\"Avg Basket Size\"] = avg_basket_value"
   ]
  },
  {
   "cell_type": "code",
   "execution_count": 30,
   "id": "3e178634-76d6-4aae-97a9-9e1c2d919689",
   "metadata": {},
   "outputs": [],
   "source": [
    "februray = sum(order_transaction[(order_transaction['Created Date'] > \"2021.02.07\") & (order_transaction['Created Date'] <= '2021-02-13')][\"Avg Basket Size\"])"
   ]
  },
  {
   "cell_type": "code",
   "execution_count": 31,
   "id": "75eea0a5-6bb6-47c1-a553-6a18ba3d51c7",
   "metadata": {},
   "outputs": [
    {
     "data": {
      "text/plain": [
       "604.2879999999994"
      ]
     },
     "execution_count": 31,
     "metadata": {},
     "output_type": "execute_result"
    }
   ],
   "source": [
    "februray"
   ]
  },
  {
   "cell_type": "code",
   "execution_count": 32,
   "id": "6f293db9-80e5-4bd7-92bd-432bccedbbd3",
   "metadata": {},
   "outputs": [],
   "source": [
    "favg_basket_size = februray/len(order_transaction[(order_transaction['Created Date'] > '2021.02.07') & (order_transaction['Created Date'] <= '2021-02-13')][\"Avg Basket Size\"])"
   ]
  },
  {
   "cell_type": "code",
   "execution_count": 33,
   "id": "331edd4e-12b7-4022-8712-02b20a5e0498",
   "metadata": {},
   "outputs": [],
   "source": [
    "format_float = \"{:.3f}\".format(favg_basket_size)"
   ]
  },
  {
   "cell_type": "code",
   "execution_count": 34,
   "id": "dde97cf8-fa53-4210-91d2-87f58ef8ded4",
   "metadata": {},
   "outputs": [
    {
     "data": {
      "text/plain": [
       "'6.568'"
      ]
     },
     "execution_count": 34,
     "metadata": {},
     "output_type": "execute_result"
    }
   ],
   "source": [
    "format_float"
   ]
  },
  {
   "cell_type": "markdown",
   "id": "4df343b3-fc1f-4f2d-bf6f-25ed3aa210d1",
   "metadata": {},
   "source": [
    "## 3 - What is the average product quantity in basket of category \"Category1003\"?"
   ]
  },
  {
   "cell_type": "code",
   "execution_count": 35,
   "id": "6da56909-e271-4b0f-a93a-0309ab32482c",
   "metadata": {},
   "outputs": [],
   "source": [
    "avg_prod_quant = order_product[order_product[\"Category\"] == \"Category1003\"].shape[0]/sum(order_product[order_product[\"Category\"] == \"Category1003\"][\"Quantity\"])"
   ]
  },
  {
   "cell_type": "code",
   "execution_count": 36,
   "id": "851c94bc-efeb-4299-967a-d9863b09e10e",
   "metadata": {},
   "outputs": [],
   "source": [
    "float_format_prod = \"{:.3f}\".format(avg_prod_quant)"
   ]
  },
  {
   "cell_type": "code",
   "execution_count": 37,
   "id": "f65200bb-cb0d-4b13-b9b0-25ef2360268d",
   "metadata": {},
   "outputs": [
    {
     "data": {
      "text/plain": [
       "'0.670'"
      ]
     },
     "execution_count": 37,
     "metadata": {},
     "output_type": "execute_result"
    }
   ],
   "source": [
    "float_format_prod"
   ]
  },
  {
   "cell_type": "markdown",
   "id": "19237800-bd57-4a7a-abe1-e2a5368cbc76",
   "metadata": {
    "tags": []
   },
   "source": [
    "## 4 - Please create a pivot table showing the total amount of each subcategory for November 2020."
   ]
  },
  {
   "cell_type": "code",
   "execution_count": 38,
   "id": "522baba4-4b70-4cec-abef-b048c47e41ef",
   "metadata": {},
   "outputs": [],
   "source": [
    "non_november_sub = order_transaction[(order_transaction['Created Date'] < '2020-11-01') | (order_transaction['Created Date'] > '2020-11-30')][\"Order ID\"]"
   ]
  },
  {
   "cell_type": "code",
   "execution_count": 39,
   "id": "215c45f6-627a-4986-b73a-42383ea1c7d3",
   "metadata": {},
   "outputs": [],
   "source": [
    "non_november_sub = non_november_sub.tolist()"
   ]
  },
  {
   "cell_type": "code",
   "execution_count": 40,
   "id": "9f11c485-a92b-468a-be09-1d31a8df848b",
   "metadata": {},
   "outputs": [],
   "source": [
    "sub_category = order_product"
   ]
  },
  {
   "cell_type": "code",
   "execution_count": 41,
   "id": "a18d503e-fd8d-4893-8d4e-17fada58c5b5",
   "metadata": {},
   "outputs": [],
   "source": [
    "for i in range(len(non_november_sub)):\n",
    "    x = sub_category[sub_category['Order ID'] == non_november_sub[i]].index.values\n",
    "    for j in x:\n",
    "        sub_category.drop(j, inplace = True)"
   ]
  },
  {
   "cell_type": "code",
   "execution_count": 42,
   "id": "292702fa-c1e5-4f1a-8ae0-d715983ff916",
   "metadata": {},
   "outputs": [],
   "source": [
    "total_amount_subctg = sub_category[\"SubCategory\"].value_counts()"
   ]
  },
  {
   "cell_type": "code",
   "execution_count": 43,
   "id": "e4447890-5b84-4125-8e35-bc8ea5621196",
   "metadata": {},
   "outputs": [],
   "source": [
    "sub_category_list = sub_category[\"SubCategory\"].unique().tolist()"
   ]
  },
  {
   "cell_type": "code",
   "execution_count": 44,
   "id": "7c1ad158-84d9-49a9-95b3-2dba9cd0ad3e",
   "metadata": {},
   "outputs": [],
   "source": [
    "sub_category_df = pd.DataFrame()"
   ]
  },
  {
   "cell_type": "code",
   "execution_count": 45,
   "id": "ec9fbb3e-c539-484b-a5d6-da3827445481",
   "metadata": {},
   "outputs": [],
   "source": [
    "sub_category_df[\"SubCategory\"] = sub_category_list"
   ]
  },
  {
   "cell_type": "code",
   "execution_count": 46,
   "id": "512d889f-6b87-4704-8377-582f2a41fef2",
   "metadata": {},
   "outputs": [],
   "source": [
    "sub_category_df[\"Total Amount November\"] = np.array(total_amount_subctg)"
   ]
  },
  {
   "cell_type": "code",
   "execution_count": 47,
   "id": "efb483aa-aa21-489a-a9bd-3d189bc430da",
   "metadata": {},
   "outputs": [
    {
     "data": {
      "text/html": [
       "<div>\n",
       "<style scoped>\n",
       "    .dataframe tbody tr th:only-of-type {\n",
       "        vertical-align: middle;\n",
       "    }\n",
       "\n",
       "    .dataframe tbody tr th {\n",
       "        vertical-align: top;\n",
       "    }\n",
       "\n",
       "    .dataframe thead th {\n",
       "        text-align: right;\n",
       "    }\n",
       "</style>\n",
       "<table border=\"1\" class=\"dataframe\">\n",
       "  <thead>\n",
       "    <tr style=\"text-align: right;\">\n",
       "      <th></th>\n",
       "      <th>SubCategory</th>\n",
       "      <th>Total Amount November</th>\n",
       "    </tr>\n",
       "  </thead>\n",
       "  <tbody>\n",
       "    <tr>\n",
       "      <th>0</th>\n",
       "      <td>SubCategory1002</td>\n",
       "      <td>290</td>\n",
       "    </tr>\n",
       "    <tr>\n",
       "      <th>1</th>\n",
       "      <td>SubCategory1024</td>\n",
       "      <td>242</td>\n",
       "    </tr>\n",
       "    <tr>\n",
       "      <th>2</th>\n",
       "      <td>SubCategory1019</td>\n",
       "      <td>149</td>\n",
       "    </tr>\n",
       "    <tr>\n",
       "      <th>3</th>\n",
       "      <td>SubCategory1018</td>\n",
       "      <td>146</td>\n",
       "    </tr>\n",
       "    <tr>\n",
       "      <th>4</th>\n",
       "      <td>SubCategory1006</td>\n",
       "      <td>144</td>\n",
       "    </tr>\n",
       "    <tr>\n",
       "      <th>5</th>\n",
       "      <td>SubCategory1001</td>\n",
       "      <td>127</td>\n",
       "    </tr>\n",
       "    <tr>\n",
       "      <th>6</th>\n",
       "      <td>SubCategory1003</td>\n",
       "      <td>113</td>\n",
       "    </tr>\n",
       "    <tr>\n",
       "      <th>7</th>\n",
       "      <td>SubCategory1016</td>\n",
       "      <td>110</td>\n",
       "    </tr>\n",
       "    <tr>\n",
       "      <th>8</th>\n",
       "      <td>SubCategory1014</td>\n",
       "      <td>104</td>\n",
       "    </tr>\n",
       "    <tr>\n",
       "      <th>9</th>\n",
       "      <td>SubCategory1013</td>\n",
       "      <td>86</td>\n",
       "    </tr>\n",
       "    <tr>\n",
       "      <th>10</th>\n",
       "      <td>SubCategory1004</td>\n",
       "      <td>85</td>\n",
       "    </tr>\n",
       "    <tr>\n",
       "      <th>11</th>\n",
       "      <td>SubCategory1005</td>\n",
       "      <td>82</td>\n",
       "    </tr>\n",
       "    <tr>\n",
       "      <th>12</th>\n",
       "      <td>SubCategory1015</td>\n",
       "      <td>81</td>\n",
       "    </tr>\n",
       "    <tr>\n",
       "      <th>13</th>\n",
       "      <td>SubCategory1008</td>\n",
       "      <td>69</td>\n",
       "    </tr>\n",
       "    <tr>\n",
       "      <th>14</th>\n",
       "      <td>SubCategory1010</td>\n",
       "      <td>57</td>\n",
       "    </tr>\n",
       "    <tr>\n",
       "      <th>15</th>\n",
       "      <td>SubCategory1026</td>\n",
       "      <td>53</td>\n",
       "    </tr>\n",
       "    <tr>\n",
       "      <th>16</th>\n",
       "      <td>SubCategory1009</td>\n",
       "      <td>46</td>\n",
       "    </tr>\n",
       "    <tr>\n",
       "      <th>17</th>\n",
       "      <td>SubCategory1007</td>\n",
       "      <td>42</td>\n",
       "    </tr>\n",
       "    <tr>\n",
       "      <th>18</th>\n",
       "      <td>SubCategory1011</td>\n",
       "      <td>42</td>\n",
       "    </tr>\n",
       "    <tr>\n",
       "      <th>19</th>\n",
       "      <td>SubCategory1023</td>\n",
       "      <td>40</td>\n",
       "    </tr>\n",
       "    <tr>\n",
       "      <th>20</th>\n",
       "      <td>SubCategory1012</td>\n",
       "      <td>40</td>\n",
       "    </tr>\n",
       "    <tr>\n",
       "      <th>21</th>\n",
       "      <td>SubCategory1020</td>\n",
       "      <td>23</td>\n",
       "    </tr>\n",
       "    <tr>\n",
       "      <th>22</th>\n",
       "      <td>SubCategory1025</td>\n",
       "      <td>21</td>\n",
       "    </tr>\n",
       "    <tr>\n",
       "      <th>23</th>\n",
       "      <td>SubCategory1029</td>\n",
       "      <td>21</td>\n",
       "    </tr>\n",
       "    <tr>\n",
       "      <th>24</th>\n",
       "      <td>SubCategory1017</td>\n",
       "      <td>20</td>\n",
       "    </tr>\n",
       "    <tr>\n",
       "      <th>25</th>\n",
       "      <td>SubCategory1027</td>\n",
       "      <td>20</td>\n",
       "    </tr>\n",
       "    <tr>\n",
       "      <th>26</th>\n",
       "      <td>SubCategory1028</td>\n",
       "      <td>19</td>\n",
       "    </tr>\n",
       "    <tr>\n",
       "      <th>27</th>\n",
       "      <td>SubCategory1030</td>\n",
       "      <td>13</td>\n",
       "    </tr>\n",
       "    <tr>\n",
       "      <th>28</th>\n",
       "      <td>SubCategory1021</td>\n",
       "      <td>9</td>\n",
       "    </tr>\n",
       "    <tr>\n",
       "      <th>29</th>\n",
       "      <td>SubCategory1022</td>\n",
       "      <td>3</td>\n",
       "    </tr>\n",
       "    <tr>\n",
       "      <th>30</th>\n",
       "      <td>SubCategory1031</td>\n",
       "      <td>2</td>\n",
       "    </tr>\n",
       "  </tbody>\n",
       "</table>\n",
       "</div>"
      ],
      "text/plain": [
       "        SubCategory  Total Amount November\n",
       "0   SubCategory1002                    290\n",
       "1   SubCategory1024                    242\n",
       "2   SubCategory1019                    149\n",
       "3   SubCategory1018                    146\n",
       "4   SubCategory1006                    144\n",
       "5   SubCategory1001                    127\n",
       "6   SubCategory1003                    113\n",
       "7   SubCategory1016                    110\n",
       "8   SubCategory1014                    104\n",
       "9   SubCategory1013                     86\n",
       "10  SubCategory1004                     85\n",
       "11  SubCategory1005                     82\n",
       "12  SubCategory1015                     81\n",
       "13  SubCategory1008                     69\n",
       "14  SubCategory1010                     57\n",
       "15  SubCategory1026                     53\n",
       "16  SubCategory1009                     46\n",
       "17  SubCategory1007                     42\n",
       "18  SubCategory1011                     42\n",
       "19  SubCategory1023                     40\n",
       "20  SubCategory1012                     40\n",
       "21  SubCategory1020                     23\n",
       "22  SubCategory1025                     21\n",
       "23  SubCategory1029                     21\n",
       "24  SubCategory1017                     20\n",
       "25  SubCategory1027                     20\n",
       "26  SubCategory1028                     19\n",
       "27  SubCategory1030                     13\n",
       "28  SubCategory1021                      9\n",
       "29  SubCategory1022                      3\n",
       "30  SubCategory1031                      2"
      ]
     },
     "execution_count": 47,
     "metadata": {},
     "output_type": "execute_result"
    }
   ],
   "source": [
    "sub_category_df"
   ]
  },
  {
   "cell_type": "markdown",
   "id": "6958c12d-eba7-428d-9709-1b9c05536e70",
   "metadata": {},
   "source": [
    "## 5 - Please calculate Avg Basket Size for each store for months January to March. Which stores show the lowest performance and why? Elaborate your decisions on lowest performing stores. Do you have a suggestion for the low performer stores?"
   ]
  },
  {
   "cell_type": "code",
   "execution_count": 48,
   "id": "62264110-3536-48f1-a2bd-b9091327033b",
   "metadata": {},
   "outputs": [
    {
     "data": {
      "text/plain": [
       "1       4.893\n",
       "2       5.692\n",
       "3       6.900\n",
       "8       5.348\n",
       "9       5.520\n",
       "        ...  \n",
       "2489    4.337\n",
       "2493    4.692\n",
       "2494    3.910\n",
       "2495    3.910\n",
       "2497    4.692\n",
       "Name: Avg Basket Size, Length: 986, dtype: float64"
      ]
     },
     "execution_count": 48,
     "metadata": {},
     "output_type": "execute_result"
    }
   ],
   "source": [
    "(order_transaction[(order_transaction['Created Date'] > '2021-01-01') & (order_transaction['Created Date'] <= '2021-03-31')][\"Avg Basket Size\"])"
   ]
  },
  {
   "cell_type": "code",
   "execution_count": 49,
   "id": "393eb3bf-f7b2-452d-bb92-e8d44ca89660",
   "metadata": {},
   "outputs": [],
   "source": [
    "store_id_jantomarch = list()\n",
    "\n",
    "for i in (order_transaction[(order_transaction['Created Date'] > '2021-01-01') & (order_transaction['Created Date'] <= '2021-03-31')][\"StoreID\"]):\n",
    "    if i not in store_id_jantomarch:\n",
    "        store_id_jantomarch.append(i)"
   ]
  },
  {
   "cell_type": "code",
   "execution_count": 50,
   "id": "144d209b-8107-4f73-bfc9-0bb35b32be47",
   "metadata": {},
   "outputs": [
    {
     "data": {
      "text/plain": [
       "'Store5032'"
      ]
     },
     "execution_count": 50,
     "metadata": {},
     "output_type": "execute_result"
    }
   ],
   "source": [
    "store_id_jantomarch[0]"
   ]
  },
  {
   "cell_type": "code",
   "execution_count": 51,
   "id": "738fd5d6-af38-46e7-a660-5966efeb1147",
   "metadata": {},
   "outputs": [],
   "source": [
    "store_avgsize = dict()\n",
    "\n",
    "for i in store_id_jantomarch:\n",
    "    avg_basket_size_each_store = (sum(order_transaction[order_transaction[\"StoreID\"] == i][\"Avg Basket Size\"])/len(order_transaction[order_transaction[\"StoreID\"] == i]))\n",
    "    formatted_float = \"{:.3f}\".format(avg_basket_size_each_store)\n",
    "    store_avgsize[i] = float(formatted_float)"
   ]
  },
  {
   "cell_type": "code",
   "execution_count": 52,
   "id": "f7bc4d74-4390-4a7a-b5cc-077d1895eea1",
   "metadata": {},
   "outputs": [
    {
     "data": {
      "text/plain": [
       "['Store5019', 'Store5009', 'Store5006', 'Store5001', 'Store5020']"
      ]
     },
     "execution_count": 52,
     "metadata": {},
     "output_type": "execute_result"
    }
   ],
   "source": [
    "sorted(store_avgsize, key=store_avgsize.get, reverse=False)[:5]"
   ]
  },
  {
   "cell_type": "code",
   "execution_count": 54,
   "id": "6b6a9159-93e9-41d0-b57a-f0ec0505c445",
   "metadata": {},
   "outputs": [
    {
     "data": {
      "text/plain": [
       "{'Store5032': 5.915,\n",
       " 'Store5031': 5.56,\n",
       " 'Store5030': 6.436,\n",
       " 'Store5029': 7.668,\n",
       " 'Store5028': 6.487,\n",
       " 'Store5027': 7.446,\n",
       " 'Store5026': 9.305,\n",
       " 'Store5025': 5.972,\n",
       " 'Store5024': 6.838,\n",
       " 'Store5023': 6.401,\n",
       " 'Store5022': 6.371,\n",
       " 'Store5021': 7.608,\n",
       " 'Store5020': 5.474,\n",
       " 'Store5019': 4.092,\n",
       " 'Store5018': 5.624,\n",
       " 'Store5017': 5.881,\n",
       " 'Store5016': 5.941,\n",
       " 'Store5015': 5.99,\n",
       " 'Store5014': 7.512,\n",
       " 'Store5013': 7.093,\n",
       " 'Store5012': 6.886,\n",
       " 'Store5011': 8.156,\n",
       " 'Store5010': 6.417,\n",
       " 'Store5009': 4.219,\n",
       " 'Store5008': 6.342,\n",
       " 'Store5007': 5.63,\n",
       " 'Store5006': 5.281,\n",
       " 'Store5005': 5.908,\n",
       " 'Store5004': 6.255,\n",
       " 'Store5003': 12.574,\n",
       " 'Store5002': 6.242,\n",
       " 'Store5001': 5.424}"
      ]
     },
     "execution_count": 54,
     "metadata": {},
     "output_type": "execute_result"
    }
   ],
   "source": [
    "store_avgsize"
   ]
  },
  {
   "cell_type": "markdown",
   "id": "16f177f5-ec37-454d-b75d-65e716706713",
   "metadata": {},
   "source": [
    "## 6 - Please create a pivot table of total number of orders for November 2020 with City name breakdown. Show the share of Cities as a percentage of total. (for Order Status= \"Completed\")"
   ]
  },
  {
   "cell_type": "code",
   "execution_count": 55,
   "id": "b24ee96e-b9af-4145-a5ab-638132869295",
   "metadata": {},
   "outputs": [],
   "source": [
    "store = pd.read_excel(\"Case.xlsx\", sheet_name=\"Store\")"
   ]
  },
  {
   "cell_type": "code",
   "execution_count": 56,
   "id": "65295e4a-1283-4b09-a867-87463dbe1ecc",
   "metadata": {},
   "outputs": [],
   "source": [
    "store.rename(columns = {'Unnamed: 0':'StoreID', 'Unnamed: 1':'City ID', 'Unnamed: 2':'City Name', 'Visit':'Ekim20', 'Unnamed: 4':'Kas20', 'Unnamed: 5':'Ara20', 'Unnamed: 6':'Oca21', 'Unnamed: 7':'Şub21',}, inplace = True)"
   ]
  },
  {
   "cell_type": "code",
   "execution_count": 57,
   "id": "a74e9e8d-35c6-4f97-ae19-0351459d707a",
   "metadata": {},
   "outputs": [],
   "source": [
    "store.drop([0], inplace = True)"
   ]
  },
  {
   "cell_type": "code",
   "execution_count": 58,
   "id": "6ae8bc92-101c-486e-8e46-a4ada4c2f648",
   "metadata": {},
   "outputs": [],
   "source": [
    "store = store.sort_values(by=[\"StoreID\"])"
   ]
  },
  {
   "cell_type": "code",
   "execution_count": 59,
   "id": "3d7e5002-603d-444c-a8b9-7a8e424c23da",
   "metadata": {},
   "outputs": [],
   "source": [
    "order_transaction = pd.read_excel(\"Case.xlsx\", sheet_name=\"Order(Transaction)\")"
   ]
  },
  {
   "cell_type": "code",
   "execution_count": 60,
   "id": "dcf579fc-b79c-4113-83cc-8ab81f654fa9",
   "metadata": {},
   "outputs": [],
   "source": [
    "cancelled = order_transaction[order_transaction[\"Order Status\"] == \"Cancelled\"][\"Order ID\"]"
   ]
  },
  {
   "cell_type": "code",
   "execution_count": 61,
   "id": "aa96eed7-f788-4778-a063-f935d6df89a4",
   "metadata": {},
   "outputs": [],
   "source": [
    "cancelled = cancelled.tolist()"
   ]
  },
  {
   "cell_type": "code",
   "execution_count": 62,
   "id": "f42f7212-674e-45d0-be63-9574d069f298",
   "metadata": {},
   "outputs": [],
   "source": [
    "for i in range(len(cancelled)):\n",
    "    delete = order_transaction[order_transaction['Order ID'] == cancelled[i]].index.values\n",
    "    for j in delete:\n",
    "        order_transaction.drop(j, inplace = True)"
   ]
  },
  {
   "cell_type": "code",
   "execution_count": 63,
   "id": "ed1fe21c-6149-472c-a8c8-2735e86f429a",
   "metadata": {},
   "outputs": [],
   "source": [
    "order_each_store  = order_transaction[\"StoreID\"].value_counts()"
   ]
  },
  {
   "cell_type": "code",
   "execution_count": 64,
   "id": "8624d410-5f79-4222-a3af-56c607640d43",
   "metadata": {},
   "outputs": [],
   "source": [
    "order_each_store = order_each_store.to_dict()"
   ]
  },
  {
   "cell_type": "code",
   "execution_count": 65,
   "id": "699687c7-8e75-46fb-8e59-a9a45054af7d",
   "metadata": {
    "tags": []
   },
   "outputs": [],
   "source": [
    "new_order_each_store = dict()\n",
    "\n",
    "istanbul = 0\n",
    "ankara = 0\n",
    "izmir = 0\n",
    "\n",
    "for k, v in order_each_store.items():\n",
    "    a = store[store[\"StoreID\"] == k][\"City Name\"]\n",
    "    a = a.tolist()\n",
    "    \n",
    "    if a[0] == \"Istanbul\":\n",
    "        istanbul += v\n",
    "    elif a[0] == \"Izmir\":\n",
    "        izmir += v\n",
    "    elif a[0] == \"Ankara\":\n",
    "        ankara += v"
   ]
  },
  {
   "cell_type": "code",
   "execution_count": 66,
   "id": "22f92f0f-5de1-490c-a8ac-d19c2b19eb41",
   "metadata": {},
   "outputs": [],
   "source": [
    "total_order_by_cities = istanbul+izmir+ankara"
   ]
  },
  {
   "cell_type": "code",
   "execution_count": 67,
   "id": "85ec94e9-87dd-48c7-a573-adb89fd3859c",
   "metadata": {},
   "outputs": [],
   "source": [
    "istanbul_percentage = istanbul/total_order_by_cities\n",
    "izmir_percentage = izmir/total_order_by_cities\n",
    "ankara_percentage = ankara/total_order_by_cities\n",
    "\n",
    "formatted_float = \"{:.3f}\".format(istanbul_percentage)\n",
    "istanbul_percentage = float(formatted_float)\n",
    "formatted_float = \"{:.3f}\".format(izmir_percentage)\n",
    "izmir_percentage = float(formatted_float)\n",
    "formatted_float = \"{:.3f}\".format(ankara_percentage)\n",
    "ankara_percentage = float(formatted_float)\n",
    "\n",
    "istanbul_percentage = \"{:.0%}\".format(istanbul_percentage)\n",
    "izmir_percentage = \"{:.0%}\".format(izmir_percentage)\n",
    "ankara_percentage = \"{:.0%}\".format(ankara_percentage)"
   ]
  },
  {
   "cell_type": "code",
   "execution_count": 68,
   "id": "cee0a479-68c6-4f56-b242-6013d449a49d",
   "metadata": {},
   "outputs": [
    {
     "data": {
      "text/plain": [
       "('66%', '16%', '18%')"
      ]
     },
     "execution_count": 68,
     "metadata": {},
     "output_type": "execute_result"
    }
   ],
   "source": [
    "istanbul_percentage, izmir_percentage, ankara_percentage"
   ]
  },
  {
   "cell_type": "code",
   "execution_count": 69,
   "id": "6cb66334-1788-4201-9e6b-dd6472c5a444",
   "metadata": {},
   "outputs": [],
   "source": [
    "percentage_list = list()\n",
    "\n",
    "percentage_list.append(izmir_percentage)\n",
    "percentage_list.append(istanbul_percentage)\n",
    "percentage_list.append(ankara_percentage)"
   ]
  },
  {
   "cell_type": "code",
   "execution_count": 70,
   "id": "d404f666-96c2-405c-a877-d6a0b4423865",
   "metadata": {},
   "outputs": [],
   "source": [
    "city_percentage_df = pd.DataFrame()"
   ]
  },
  {
   "cell_type": "code",
   "execution_count": 71,
   "id": "629747e8-ae16-4f2f-a35a-db5ab2e47d64",
   "metadata": {},
   "outputs": [],
   "source": [
    "city_percentage_df[\"City Name\"] = store[\"City Name\"].unique()"
   ]
  },
  {
   "cell_type": "code",
   "execution_count": 72,
   "id": "e34cfda4-b370-4726-bcf3-87292e53ac95",
   "metadata": {},
   "outputs": [],
   "source": [
    "city_percentage_df[\"Percentage\"] = percentage_list"
   ]
  },
  {
   "cell_type": "code",
   "execution_count": 73,
   "id": "5730acbc-669c-40d3-98e7-0de74a4fcf93",
   "metadata": {},
   "outputs": [
    {
     "data": {
      "text/html": [
       "<div>\n",
       "<style scoped>\n",
       "    .dataframe tbody tr th:only-of-type {\n",
       "        vertical-align: middle;\n",
       "    }\n",
       "\n",
       "    .dataframe tbody tr th {\n",
       "        vertical-align: top;\n",
       "    }\n",
       "\n",
       "    .dataframe thead th {\n",
       "        text-align: right;\n",
       "    }\n",
       "</style>\n",
       "<table border=\"1\" class=\"dataframe\">\n",
       "  <thead>\n",
       "    <tr style=\"text-align: right;\">\n",
       "      <th></th>\n",
       "      <th>City Name</th>\n",
       "      <th>Percentage</th>\n",
       "    </tr>\n",
       "  </thead>\n",
       "  <tbody>\n",
       "    <tr>\n",
       "      <th>0</th>\n",
       "      <td>Izmir</td>\n",
       "      <td>16%</td>\n",
       "    </tr>\n",
       "    <tr>\n",
       "      <th>1</th>\n",
       "      <td>Istanbul</td>\n",
       "      <td>66%</td>\n",
       "    </tr>\n",
       "    <tr>\n",
       "      <th>2</th>\n",
       "      <td>Ankara</td>\n",
       "      <td>18%</td>\n",
       "    </tr>\n",
       "  </tbody>\n",
       "</table>\n",
       "</div>"
      ],
      "text/plain": [
       "  City Name Percentage\n",
       "0     Izmir        16%\n",
       "1  Istanbul        66%\n",
       "2    Ankara        18%"
      ]
     },
     "execution_count": 73,
     "metadata": {},
     "output_type": "execute_result"
    }
   ],
   "source": [
    "city_percentage_df"
   ]
  },
  {
   "cell_type": "markdown",
   "id": "ddf501fc-208c-4135-bdc8-b92733e4e6c3",
   "metadata": {},
   "source": [
    "## 7 - Suppose that will open a new store. Which city would you suggest for that? Please elaborate your reasoning."
   ]
  },
  {
   "cell_type": "code",
   "execution_count": 84,
   "id": "9b814fcc-85bb-40ec-84aa-e3c5ae91d58b",
   "metadata": {},
   "outputs": [],
   "source": [
    "store = pd.read_excel(\"Case.xlsx\", sheet_name=\"Store\")"
   ]
  },
  {
   "cell_type": "code",
   "execution_count": 85,
   "id": "f854f50b-6b02-4eab-9833-79a75a0157fb",
   "metadata": {},
   "outputs": [],
   "source": [
    "store.rename(columns = {'Unnamed: 0':'StoreID', 'Unnamed: 1':'City ID', 'Unnamed: 2':'City Name', 'Visit':'Ekim20', 'Unnamed: 4':'Kas20', 'Unnamed: 5':'Ara20', 'Unnamed: 6':'Oca21', 'Unnamed: 7':'Şub21',}, inplace = True)"
   ]
  },
  {
   "cell_type": "code",
   "execution_count": 86,
   "id": "322201e4-d107-49b5-91f7-1473c14f1296",
   "metadata": {},
   "outputs": [],
   "source": [
    "store.drop([0], inplace = True)"
   ]
  },
  {
   "cell_type": "code",
   "execution_count": 87,
   "id": "ef633408-0a64-4362-8d81-987b92121eec",
   "metadata": {},
   "outputs": [
    {
     "data": {
      "text/html": [
       "<div>\n",
       "<style scoped>\n",
       "    .dataframe tbody tr th:only-of-type {\n",
       "        vertical-align: middle;\n",
       "    }\n",
       "\n",
       "    .dataframe tbody tr th {\n",
       "        vertical-align: top;\n",
       "    }\n",
       "\n",
       "    .dataframe thead th {\n",
       "        text-align: right;\n",
       "    }\n",
       "</style>\n",
       "<table border=\"1\" class=\"dataframe\">\n",
       "  <thead>\n",
       "    <tr style=\"text-align: right;\">\n",
       "      <th></th>\n",
       "      <th>StoreID</th>\n",
       "      <th>City ID</th>\n",
       "      <th>City Name</th>\n",
       "      <th>Ekim20</th>\n",
       "      <th>Kas20</th>\n",
       "      <th>Ara20</th>\n",
       "      <th>Oca21</th>\n",
       "      <th>Şub21</th>\n",
       "    </tr>\n",
       "  </thead>\n",
       "  <tbody>\n",
       "    <tr>\n",
       "      <th>1</th>\n",
       "      <td>Store5002</td>\n",
       "      <td>34</td>\n",
       "      <td>Istanbul</td>\n",
       "      <td>120.51</td>\n",
       "      <td>100.8</td>\n",
       "      <td>107.35</td>\n",
       "      <td>121.25</td>\n",
       "      <td>59.8</td>\n",
       "    </tr>\n",
       "    <tr>\n",
       "      <th>2</th>\n",
       "      <td>Store5003</td>\n",
       "      <td>34</td>\n",
       "      <td>Istanbul</td>\n",
       "      <td>65.52</td>\n",
       "      <td>45</td>\n",
       "      <td>65.55</td>\n",
       "      <td>62.5</td>\n",
       "      <td>116.15</td>\n",
       "    </tr>\n",
       "    <tr>\n",
       "      <th>3</th>\n",
       "      <td>Store5004</td>\n",
       "      <td>6</td>\n",
       "      <td>Ankara</td>\n",
       "      <td>78.39</td>\n",
       "      <td>74.7</td>\n",
       "      <td>116.2</td>\n",
       "      <td>103.75</td>\n",
       "      <td>83.2</td>\n",
       "    </tr>\n",
       "    <tr>\n",
       "      <th>4</th>\n",
       "      <td>Store5005</td>\n",
       "      <td>6</td>\n",
       "      <td>Ankara</td>\n",
       "      <td>73.71</td>\n",
       "      <td>91.8</td>\n",
       "      <td>142.8</td>\n",
       "      <td>127.5</td>\n",
       "      <td>136.5</td>\n",
       "    </tr>\n",
       "    <tr>\n",
       "      <th>5</th>\n",
       "      <td>Store5006</td>\n",
       "      <td>34</td>\n",
       "      <td>Istanbul</td>\n",
       "      <td>52.65</td>\n",
       "      <td>88.8</td>\n",
       "      <td>110.2</td>\n",
       "      <td>136.25</td>\n",
       "      <td>106.6</td>\n",
       "    </tr>\n",
       "  </tbody>\n",
       "</table>\n",
       "</div>"
      ],
      "text/plain": [
       "     StoreID City ID City Name  Ekim20  Kas20   Ara20   Oca21   Şub21\n",
       "1  Store5002      34  Istanbul  120.51  100.8  107.35  121.25    59.8\n",
       "2  Store5003      34  Istanbul   65.52     45   65.55    62.5  116.15\n",
       "3  Store5004       6    Ankara   78.39   74.7   116.2  103.75    83.2\n",
       "4  Store5005       6    Ankara   73.71   91.8   142.8   127.5   136.5\n",
       "5  Store5006      34  Istanbul   52.65   88.8   110.2  136.25   106.6"
      ]
     },
     "execution_count": 87,
     "metadata": {},
     "output_type": "execute_result"
    }
   ],
   "source": [
    "store.head(5)"
   ]
  },
  {
   "cell_type": "code",
   "execution_count": 89,
   "id": "c004a89e-f510-4137-a860-d2c62559083d",
   "metadata": {},
   "outputs": [
    {
     "data": {
      "text/html": [
       "<div>\n",
       "<style scoped>\n",
       "    .dataframe tbody tr th:only-of-type {\n",
       "        vertical-align: middle;\n",
       "    }\n",
       "\n",
       "    .dataframe tbody tr th {\n",
       "        vertical-align: top;\n",
       "    }\n",
       "\n",
       "    .dataframe thead th {\n",
       "        text-align: right;\n",
       "    }\n",
       "</style>\n",
       "<table border=\"1\" class=\"dataframe\">\n",
       "  <thead>\n",
       "    <tr style=\"text-align: right;\">\n",
       "      <th></th>\n",
       "      <th>Order ID</th>\n",
       "      <th>MemberID</th>\n",
       "      <th>Avg Basket Size</th>\n",
       "      <th>Created Date</th>\n",
       "      <th>StoreID</th>\n",
       "      <th>Order Status</th>\n",
       "    </tr>\n",
       "  </thead>\n",
       "  <tbody>\n",
       "    <tr>\n",
       "      <th>0</th>\n",
       "      <td>1001</td>\n",
       "      <td>5124</td>\n",
       "      <td>5.175</td>\n",
       "      <td>06.12.2020</td>\n",
       "      <td>Store5032</td>\n",
       "      <td>Completed</td>\n",
       "    </tr>\n",
       "    <tr>\n",
       "      <th>1</th>\n",
       "      <td>1002</td>\n",
       "      <td>5219</td>\n",
       "      <td>4.893</td>\n",
       "      <td>18.02.2021</td>\n",
       "      <td>Store5032</td>\n",
       "      <td>Completed</td>\n",
       "    </tr>\n",
       "    <tr>\n",
       "      <th>2</th>\n",
       "      <td>1003</td>\n",
       "      <td>5229</td>\n",
       "      <td>5.692</td>\n",
       "      <td>04.01.2021</td>\n",
       "      <td>Store5032</td>\n",
       "      <td>Completed</td>\n",
       "    </tr>\n",
       "    <tr>\n",
       "      <th>3</th>\n",
       "      <td>1004</td>\n",
       "      <td>5239</td>\n",
       "      <td>6.900</td>\n",
       "      <td>05.02.2021</td>\n",
       "      <td>Store5032</td>\n",
       "      <td>Completed</td>\n",
       "    </tr>\n",
       "    <tr>\n",
       "      <th>4</th>\n",
       "      <td>1005</td>\n",
       "      <td>5250</td>\n",
       "      <td>5.692</td>\n",
       "      <td>24.10.2020</td>\n",
       "      <td>Store5032</td>\n",
       "      <td>Completed</td>\n",
       "    </tr>\n",
       "  </tbody>\n",
       "</table>\n",
       "</div>"
      ],
      "text/plain": [
       "   Order ID  MemberID  Avg Basket Size Created Date    StoreID Order Status\n",
       "0      1001      5124            5.175   06.12.2020  Store5032    Completed\n",
       "1      1002      5219            4.893   18.02.2021  Store5032    Completed\n",
       "2      1003      5229            5.692   04.01.2021  Store5032    Completed\n",
       "3      1004      5239            6.900   05.02.2021  Store5032    Completed\n",
       "4      1005      5250            5.692   24.10.2020  Store5032    Completed"
      ]
     },
     "execution_count": 89,
     "metadata": {},
     "output_type": "execute_result"
    }
   ],
   "source": [
    "order_transaction_date.head(5)"
   ]
  },
  {
   "cell_type": "code",
   "execution_count": 90,
   "id": "f8905af6-308e-48c2-86ab-add41aa34f2a",
   "metadata": {
    "tags": []
   },
   "outputs": [],
   "source": [
    "store_id = dict()\n",
    "\n",
    "for i in store[\"StoreID\"]:\n",
    "    a = sum(order_transaction_date[order_transaction_date[\"StoreID\"] == i][\"Avg Basket Size\"])\n",
    "    format_a = \"{:.3f}\".format(a)\n",
    "    store_id[i] = float(format_a)\n",
    "    a = 0"
   ]
  },
  {
   "cell_type": "code",
   "execution_count": 91,
   "id": "b7562366-0ddb-49e6-b6ba-a1def6bdd74f",
   "metadata": {},
   "outputs": [],
   "source": [
    "city_name = dict()\n",
    "\n",
    "for k, v in store_id.items():\n",
    "    x = store[store[\"StoreID\"] == k][\"City Name\"]\n",
    "    x = x.to_list()\n",
    "    city_name[k] = x"
   ]
  },
  {
   "cell_type": "code",
   "execution_count": 92,
   "id": "ad5a3549-aef8-4acb-98fc-9a7cdceffbae",
   "metadata": {},
   "outputs": [
    {
     "data": {
      "text/plain": [
       "['Izmir']"
      ]
     },
     "execution_count": 92,
     "metadata": {},
     "output_type": "execute_result"
    }
   ],
   "source": [
    "city_name[\"Store5013\"]"
   ]
  },
  {
   "cell_type": "code",
   "execution_count": 93,
   "id": "f84c079a-94cb-4a33-ab8d-a2a4c0aa057f",
   "metadata": {},
   "outputs": [
    {
     "data": {
      "text/plain": [
       "['Store5003', 'Store5026', 'Store5021', 'Store5011', 'Store5013']"
      ]
     },
     "execution_count": 93,
     "metadata": {},
     "output_type": "execute_result"
    }
   ],
   "source": [
    "sorted(store_id, key=store_id.get, reverse=True)[:5]"
   ]
  },
  {
   "cell_type": "code",
   "execution_count": 94,
   "id": "c11a641f-357a-4bdf-a621-c74bae263f00",
   "metadata": {},
   "outputs": [
    {
     "data": {
      "text/plain": [
       "{'Store5002': 411.971,\n",
       " 'Store5003': 792.177,\n",
       " 'Store5004': 525.411,\n",
       " 'Store5005': 449.006,\n",
       " 'Store5006': 443.574,\n",
       " 'Store5007': 450.387,\n",
       " 'Store5008': 621.518,\n",
       " 'Store5009': 286.903,\n",
       " 'Store5010': 481.254,\n",
       " 'Store5011': 644.361,\n",
       " 'Store5012': 599.042,\n",
       " 'Store5014': 510.842,\n",
       " 'Store5015': 455.234,\n",
       " 'Store5016': 427.727,\n",
       " 'Store5017': 435.16,\n",
       " 'Store5020': 492.62,\n",
       " 'Store5021': 707.542,\n",
       " 'Store5022': 605.239,\n",
       " 'Store5023': 492.843,\n",
       " 'Store5024': 492.355,\n",
       " 'Store5025': 483.738,\n",
       " 'Store5026': 781.63,\n",
       " 'Store5027': 506.302,\n",
       " 'Store5028': 473.582,\n",
       " 'Store5030': 405.442,\n",
       " 'Store5032': 431.766,\n",
       " 'Store5019': 323.229,\n",
       " 'Store5018': 382.443,\n",
       " 'Store5029': 628.761,\n",
       " 'Store5031': 455.935,\n",
       " 'Store5013': 638.366,\n",
       " 'Store5001': 433.917}"
      ]
     },
     "execution_count": 94,
     "metadata": {},
     "output_type": "execute_result"
    }
   ],
   "source": [
    "store_id"
   ]
  },
  {
   "cell_type": "markdown",
   "id": "a126aea8-d68b-40a0-b903-f88d0a4d29bc",
   "metadata": {},
   "source": [
    "## 8 - What are the top 5 products (by product id) with the highest amount in one basket? (for Order Status= \"Completed\")"
   ]
  },
  {
   "cell_type": "code",
   "execution_count": 95,
   "id": "f5cb013a-ae44-463a-8f91-0164989d88b7",
   "metadata": {},
   "outputs": [],
   "source": [
    "x = order_transaction[order_transaction[\"Order Status\"] == \"Cancelled\"][\"Order ID\"]"
   ]
  },
  {
   "cell_type": "code",
   "execution_count": 96,
   "id": "93ce11bc-f128-456e-96a2-425c1a859cdc",
   "metadata": {},
   "outputs": [],
   "source": [
    "x = x.to_list()"
   ]
  },
  {
   "cell_type": "code",
   "execution_count": 97,
   "id": "2c422567-ecc4-4cd9-898d-58a9dfe099f5",
   "metadata": {
    "tags": []
   },
   "outputs": [],
   "source": [
    "order_product.drop(x, inplace = True)"
   ]
  },
  {
   "cell_type": "code",
   "execution_count": 98,
   "id": "395fc7da-4278-4eaf-9981-8ba546057c0b",
   "metadata": {},
   "outputs": [],
   "source": [
    "f = dict()\n",
    "\n",
    "for i in order_product[\"ProductID\"]:\n",
    "    a = sum(order_product[order_product[\"ProductID\"] == i][\"Quantity\"])\n",
    "    f[i] = a\n",
    "    a = 0"
   ]
  },
  {
   "cell_type": "code",
   "execution_count": 99,
   "id": "3fe3d9b9-976d-4232-ab93-8381d82e5f30",
   "metadata": {},
   "outputs": [
    {
     "data": {
      "text/plain": [
       "['Product5325', 'Product5260', 'Product5784', 'Product5179', 'Product5144']"
      ]
     },
     "execution_count": 99,
     "metadata": {},
     "output_type": "execute_result"
    }
   ],
   "source": [
    "sorted(f, key=f.get, reverse=True)[:5]"
   ]
  },
  {
   "cell_type": "code",
   "execution_count": null,
   "id": "efd380d7-3987-4300-82e7-b6ff9be4e236",
   "metadata": {},
   "outputs": [],
   "source": []
  },
  {
   "cell_type": "code",
   "execution_count": 100,
   "id": "e121860c-3c26-42b6-b62e-3aa122288632",
   "metadata": {},
   "outputs": [],
   "source": [
    "with pd.ExcelWriter(\"CaseAnswer.xlsx\") as writer:\n",
    "    city_percentage_df.to_excel(writer, sheet_name=\"City Percentage\")\n",
    "    sub_category_df.to_excel(writer, sheet_name=\"November Sub Category\")\n",
    "    order_transaction_date.to_excel(writer, sheet_name=\"Avg Basket Size Transaction\")"
   ]
  },
  {
   "cell_type": "code",
   "execution_count": null,
   "id": "5be27665-0637-4594-a091-79b70e1a04c7",
   "metadata": {},
   "outputs": [],
   "source": []
  },
  {
   "cell_type": "code",
   "execution_count": null,
   "id": "97ebfc01-f6b2-468f-9f43-749f0fdb5887",
   "metadata": {},
   "outputs": [],
   "source": []
  },
  {
   "cell_type": "code",
   "execution_count": null,
   "id": "0fb04333-18a6-4088-af32-b2d4f279c33e",
   "metadata": {},
   "outputs": [],
   "source": []
  },
  {
   "cell_type": "code",
   "execution_count": null,
   "id": "bf9a7045-bcec-4f1a-b803-e4276664707a",
   "metadata": {},
   "outputs": [],
   "source": []
  }
 ],
 "metadata": {
  "kernelspec": {
   "display_name": "Python 3 (ipykernel)",
   "language": "python",
   "name": "python3"
  },
  "language_info": {
   "codemirror_mode": {
    "name": "ipython",
    "version": 3
   },
   "file_extension": ".py",
   "mimetype": "text/x-python",
   "name": "python",
   "nbconvert_exporter": "python",
   "pygments_lexer": "ipython3",
   "version": "3.10.4"
  }
 },
 "nbformat": 4,
 "nbformat_minor": 5
}
